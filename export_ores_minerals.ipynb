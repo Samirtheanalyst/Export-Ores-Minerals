{
 "cells": [
  {
   "cell_type": "code",
   "execution_count": 36,
   "metadata": {},
   "outputs": [],
   "source": [
    "import pandas as pd\n",
    "import matplotlib.pyplot as plt\n",
    "import seaborn as sns"
   ]
  },
  {
   "cell_type": "code",
   "execution_count": 37,
   "metadata": {},
   "outputs": [],
   "source": [
    "def format_indian_number(value):\n",
    "    if value >= 10000000:\n",
    "        return f\"{value / 10000000:.2f} Cr\"\n",
    "    elif value >= 100000:\n",
    "        return f\"{value / 100000:.2f} Lakh\"\n",
    "    elif value >= 1000:\n",
    "        return f\"{value / 1000:.2f} K\"\n",
    "    else:\n",
    "        return str(value)"
   ]
  },
  {
   "cell_type": "code",
   "execution_count": 38,
   "metadata": {},
   "outputs": [],
   "source": [
    "# Load dataset\n",
    "df = pd.read_csv(\"C:\\\\Users\\\\Samir\\\\OneDrive\\\\Desktop\\\\export ores & minerals.csv\")"
   ]
  },
  {
   "cell_type": "code",
   "execution_count": 39,
   "metadata": {},
   "outputs": [],
   "source": [
    "# Converting relevant columns to numerical values (if needed)\n",
    "df['Value - 2015-16'] = pd.to_numeric(df['Value - 2015-16'], errors='coerce')\n",
    "df['Value - 2016-17'] = pd.to_numeric(df['Value - 2016-17'], errors='coerce')\n",
    "df['Value - 2017-18'] = pd.to_numeric(df['Value - 2017-18'], errors='coerce')"
   ]
  },
  {
   "cell_type": "code",
   "execution_count": 40,
   "metadata": {},
   "outputs": [],
   "source": [
    "# Applying number format to value columns\n",
    "df['Value - 2015-16 Formatted'] = df['Value - 2015-16'].apply(format_indian_number)\n",
    "df['Value - 2016-17 Formatted'] = df['Value - 2016-17'].apply(format_indian_number)\n",
    "df['Value - 2017-18 Formatted'] = df['Value - 2017-18'].apply(format_indian_number)"
   ]
  },
  {
   "cell_type": "code",
   "execution_count": 41,
   "metadata": {},
   "outputs": [],
   "source": [
    "# Growth Calculation\n",
    "df['Value Growth'] = df['Value - 2017-18'] - df['Value - 2016-17']\n",
    "df['Value Growth Formatted'] = df['Value Growth'].apply(format_indian_number)"
   ]
  },
  {
   "cell_type": "code",
   "execution_count": 42,
   "metadata": {},
   "outputs": [
    {
     "name": "stdout",
     "output_type": "stream",
     "text": [
      "Total Export Value for Each Mineral Over Three Years:\n",
      "            Ores & Minerals  Total Export Value\n",
      "0              All Minerals        5.701974e+09\n",
      "1        Abrasive (Natural)        5.518470e+05\n",
      "2                 Alabaster        2.810000e+02\n",
      "3                   Alumina        8.888768e+07\n",
      "4                Andalusite        2.390000e+03\n",
      "..                      ...                 ...\n",
      "136               Witherite        7.760000e+02\n",
      "137            Wollastonite        7.977060e+05\n",
      "138       Zinc Ores & Conc.        4.032982e+06\n",
      "139  Zirconium Ores & Conc.        3.682120e+05\n",
      "140      Other Minerals Nes        5.370572e+06\n",
      "\n",
      "[141 rows x 2 columns]\n"
     ]
    }
   ],
   "source": [
    "# Q1: Total Export Value for Each Mineral Over Three Years\n",
    "df['Total Export Value'] = df[['Value - 2015-16', 'Value - 2016-17', 'Value - 2017-18']].sum(axis=1)\n",
    "print(\"Total Export Value for Each Mineral Over Three Years:\")\n",
    "print(df[['Ores & Minerals', 'Total Export Value']])\n"
   ]
  },
  {
   "cell_type": "code",
   "execution_count": 43,
   "metadata": {},
   "outputs": [
    {
     "name": "stdout",
     "output_type": "stream",
     "text": [
      "Percentage Contribution of Each Mineral in 2017-18:\n",
      "            Ores & Minerals  Percentage Contribution 2017-18\n",
      "0              All Minerals                     3.398078e+01\n",
      "1        Abrasive (Natural)                     7.258000e-03\n",
      "2                 Alabaster                     6.996831e-07\n",
      "3                   Alumina                     5.625025e-01\n",
      "4                Andalusite                     5.580399e-06\n",
      "..                      ...                              ...\n",
      "136               Witherite                     5.443876e-06\n",
      "137            Wollastonite                     3.838342e-03\n",
      "138       Zinc Ores & Conc.                     5.368788e-04\n",
      "139  Zirconium Ores & Conc.                     5.312472e-04\n",
      "140      Other Minerals Nes                     4.278861e-02\n",
      "\n",
      "[141 rows x 2 columns]\n"
     ]
    }
   ],
   "source": [
    "\n",
    "# Q2: Percentage Contribution of Each Mineral in 2017-18\n",
    "df['Percentage Contribution 2017-18'] = (df['Value - 2017-18'] / df['Value - 2017-18'].sum()) * 100\n",
    "print(\"Percentage Contribution of Each Mineral in 2017-18:\")\n",
    "print(df[['Ores & Minerals', 'Percentage Contribution 2017-18']])\n"
   ]
  },
  {
   "cell_type": "code",
   "execution_count": 44,
   "metadata": {},
   "outputs": [
    {
     "name": "stdout",
     "output_type": "stream",
     "text": [
      "Mineral with the Highest Growth in Export Value:\n",
      "Ores & Minerals    Iron Ore Pellates\n",
      "Value Growth              11118847.0\n",
      "Name: 64, dtype: object\n"
     ]
    }
   ],
   "source": [
    "# Q3: Mineral with the Highest Growth in Export Value\n",
    "top_growth = df.loc[df['Value Growth'].idxmax()]\n",
    "print(\"Mineral with the Highest Growth in Export Value:\")\n",
    "print(top_growth[['Ores & Minerals', 'Value Growth']])"
   ]
  },
  {
   "cell_type": "code",
   "execution_count": 45,
   "metadata": {},
   "outputs": [
    {
     "name": "stdout",
     "output_type": "stream",
     "text": [
      "Rank Minerals by Export Value in 2017-18:\n",
      "            Ores & Minerals  Rank 2017-18\n",
      "0              All Minerals           1.0\n",
      "1        Abrasive (Natural)          65.0\n",
      "2                 Alabaster         136.0\n",
      "3                   Alumina           8.0\n",
      "4                Andalusite         128.0\n",
      "..                      ...           ...\n",
      "136               Witherite         129.0\n",
      "137            Wollastonite          80.0\n",
      "138       Zinc Ores & Conc.          94.0\n",
      "139  Zirconium Ores & Conc.          95.0\n",
      "140      Other Minerals Nes          42.0\n",
      "\n",
      "[141 rows x 2 columns]\n"
     ]
    }
   ],
   "source": [
    "# Q4: Rank Minerals by Export Value in 2017-18\n",
    "df['Rank 2017-18'] = df['Value - 2017-18'].rank(ascending=False, method='dense')\n",
    "print(\"Rank Minerals by Export Value in 2017-18:\")\n",
    "print(df[['Ores & Minerals', 'Rank 2017-18']])"
   ]
  },
  {
   "cell_type": "code",
   "execution_count": 46,
   "metadata": {},
   "outputs": [
    {
     "name": "stdout",
     "output_type": "stream",
     "text": [
      "Year with the Highest Export Value for Each Mineral:\n",
      "            Ores & Minerals     Highest Year\n",
      "0              All Minerals  Value - 2016-17\n",
      "1        Abrasive (Natural)  Value - 2017-18\n",
      "2                 Alabaster  Value - 2016-17\n",
      "3                   Alumina  Value - 2017-18\n",
      "4                Andalusite  Value - 2016-17\n",
      "..                      ...              ...\n",
      "136               Witherite  Value - 2017-18\n",
      "137            Wollastonite  Value - 2016-17\n",
      "138       Zinc Ores & Conc.  Value - 2016-17\n",
      "139  Zirconium Ores & Conc.  Value - 2015-16\n",
      "140      Other Minerals Nes  Value - 2017-18\n",
      "\n",
      "[141 rows x 2 columns]\n"
     ]
    }
   ],
   "source": [
    "# Q5: Year with the Highest Export Value for Each Mineral\n",
    "df['Highest Year'] = df[['Value - 2015-16', 'Value - 2016-17', 'Value - 2017-18']].idxmax(axis=1)\n",
    "print(\"Year with the Highest Export Value for Each Mineral:\")\n",
    "print(df[['Ores & Minerals', 'Highest Year']])\n"
   ]
  },
  {
   "cell_type": "code",
   "execution_count": 47,
   "metadata": {},
   "outputs": [
    {
     "name": "stdout",
     "output_type": "stream",
     "text": [
      "Total Export Value for All Minerals Per Year:\n",
      "Value - 2015-16    5.012611e+09\n",
      "Value - 2016-17    5.893183e+09\n",
      "Value - 2017-18    5.859796e+09\n",
      "dtype: float64\n"
     ]
    },
    {
     "data": {
      "image/png": "[encoded data removed]",
      "text/plain": [
       "<Figure size 1000x500 with 1 Axes>"
      ]
     },
     "metadata": {},
     "output_type": "display_data"
    }
   ],
   "source": [
    "# Q6: Total Export Value for All Minerals Per Year\n",
    "total_exports_per_year = df[['Value - 2015-16', 'Value - 2016-17', 'Value - 2017-18']].sum()\n",
    "print(\"Total Export Value for All Minerals Per Year:\")\n",
    "print(total_exports_per_year)\n",
    "\n",
    "plt.figure(figsize=(10, 5))\n",
    "sns.barplot(x=total_exports_per_year.index, y=total_exports_per_year.values, palette='coolwarm')\n",
    "plt.xlabel(\"Year\")\n",
    "plt.ylabel(\"Total Export Value\")\n",
    "plt.title(\"Total Export Value for All Minerals Per Year\")\n",
    "plt.show()"
   ]
  },
  {
   "cell_type": "code",
   "execution_count": 48,
   "metadata": {},
   "outputs": [
    {
     "name": "stdout",
     "output_type": "stream",
     "text": [
      "Compare Export Growth Between 2015-16 and 2017-18 for Each Mineral:\n",
      "            Ores & Minerals  Growth 2015-16 to 2017-18\n",
      "0              All Minerals                281741153.0\n",
      "1        Abrasive (Natural)                   365410.0\n",
      "2                 Alabaster                        NaN\n",
      "3                   Alumina                  7065736.0\n",
      "4                Andalusite                        NaN\n",
      "..                      ...                        ...\n",
      "136               Witherite                       78.0\n",
      "137            Wollastonite                   -54344.0\n",
      "138       Zinc Ores & Conc.                    20114.0\n",
      "139  Zirconium Ores & Conc.                  -210770.0\n",
      "140      Other Minerals Nes                  1307272.0\n",
      "\n",
      "[141 rows x 2 columns]\n"
     ]
    }
   ],
   "source": [
    "# Q7: Compare Export Growth Between 2015-16 and 2017-18 for Each Mineral\n",
    "df['Growth 2015-16 to 2017-18'] = df['Value - 2017-18'] - df['Value - 2015-16']\n",
    "print(\"Compare Export Growth Between 2015-16 and 2017-18 for Each Mineral:\")\n",
    "print(df[['Ores & Minerals', 'Growth 2015-16 to 2017-18']])"
   ]
  }
 ],
 "metadata": {
  "kernelspec": {
   "display_name": "base",
   "language": "python",
   "name": "python3"
  },
  "language_info": {
   "codemirror_mode": {
    "name": "ipython",
    "version": 3
   },
   "file_extension": ".py",
   "mimetype": "text/x-python",
   "name": "python",
   "nbconvert_exporter": "python",
   "pygments_lexer": "ipython3",
   "version": "3.11.7"
  }
 },
 "nbformat": 4,
 "nbformat_minor": 2
}
